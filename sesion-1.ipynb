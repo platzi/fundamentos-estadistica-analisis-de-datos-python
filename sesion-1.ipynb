{
 "cells": [
  {
   "cell_type": "markdown",
   "metadata": {
    "colab_type": "text",
    "id": "Wfet5WaRMvZy"
   },
   "source": [
    "# **Fundamentos de estadística y analísis de datos con Python**\n"
   ]
  },
  {
   "cell_type": "markdown",
   "metadata": {
    "colab_type": "text",
    "id": "YOQ21ct3NKg4"
   },
   "source": [
    "## Sesión 1: introducción al curso"
   ]
  },
  {
   "cell_type": "markdown",
   "metadata": {
    "colab_type": "text",
    "id": "CHca3Yu7O7MD"
   },
   "source": [
    "*  Prerrequisitos\n",
    "*  Clases + Proyecto\n",
    "*  Material de la clase\n"
   ]
  },
  {
   "cell_type": "markdown",
   "metadata": {
    "colab_type": "text",
    "id": "viIRDfx3PYZ1"
   },
   "source": [
    "Anaconda:  https://docs.anaconda.com/anaconda/install/\n",
    "\n",
    "    Python 3.5 Scripts\n",
    "\n",
    "    Jupiter / Jupiter Lab: Python notebooks local\n",
    "\n",
    "Colab Notebooks: Python notebooks en linea - https://colab.research.google.com/notebooks/welcome.ipynb#\n"
   ]
  }
 ],
 "metadata": {
  "colab": {
   "name": "Fundamentos de Estadística con Python - 20192015.ipynb",
   "provenance": []
  },
  "kernelspec": {
   "display_name": "Python 3",
   "language": "python",
   "name": "python3"
  },
  "language_info": {
   "codemirror_mode": {
    "name": "ipython",
    "version": 3
   },
   "file_extension": ".py",
   "mimetype": "text/x-python",
   "name": "python",
   "nbconvert_exporter": "python",
   "pygments_lexer": "ipython3",
   "version": "3.7.1"
  }
 },
 "nbformat": 4,
 "nbformat_minor": 2
}
